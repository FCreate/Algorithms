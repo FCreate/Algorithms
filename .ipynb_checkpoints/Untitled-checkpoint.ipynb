{
 "cells": [
  {
   "cell_type": "code",
   "execution_count": 1,
   "metadata": {},
   "outputs": [
    {
     "name": "stdout",
     "output_type": "stream",
     "text": [
      "3 3\n",
      "1 2\n",
      "1 3\n",
      "2 3\n",
      "YES\n",
      "[0, 1, 2, 2]\n",
      "3\n"
     ]
    }
   ],
   "source": [
    "n, m = list(map(int, input().split()))\n",
    "g = [[] for _ in range(n)]\n",
    "ans = []\n",
    "# 0 - WHITE, 1 - Gray, 2- Black\n",
    "visited = [0] * n\n",
    "found = False\n",
    "for _ in range(m):\n",
    "    i, j = list(map(int, input().split()))\n",
    "    i-=1\n",
    "    j-=1\n",
    "    g[i].append(j)\n",
    "    \n",
    "\n",
    "def dfs(node1):\n",
    "    global ans, found, g, visited\n",
    "    visited[node1] = 1\n",
    "    ans.append(node1)\n",
    "    for node2 in g[node1]:\n",
    "        if visited[node2] == 1:\n",
    "            ans.append(node2)\n",
    "            found = True\n",
    "            return\n",
    "        if visited[node2] == 0:\n",
    "            dfs(node2)\n",
    "            if found:\n",
    "                return\n",
    "        \n",
    "def helper():\n",
    "    global g, visited\n",
    "    for v in range(n):\n",
    "        if visited[v] == 0:\n",
    "            dfs(v)\n",
    "            for i in range(len(visited)):\n",
    "                if visited[i] == 1:\n",
    "                    visited[i] = 2\n",
    "            if found:\n",
    "                print(\"YES\")\n",
    "            #change answer\n",
    "            print(ans)\n",
    "            path = ans\n",
    "            last_val = path[-1]\n",
    "            r_path = path[:-1]               \n",
    "            indx = len(r_path) - 1 - r_path[::-1].index(last_val)\n",
    "            r_path = [elem + 1 for elem in r_path]\n",
    "            print(\" \".join(list(map(str, r_path[indx:]))))\n",
    "            return\n",
    "\n",
    "    print(\"NO\")\n",
    "    return\n",
    "\n",
    "helper()"
   ]
  },
  {
   "cell_type": "code",
   "execution_count": null,
   "metadata": {},
   "outputs": [],
   "source": [
    "5 5\n",
    "1 2\n",
    "2 3\n",
    "3 4\n",
    "4 2\n",
    "4 5"
   ]
  }
 ],
 "metadata": {
  "kernelspec": {
   "display_name": "Python 3",
   "language": "python",
   "name": "python3"
  },
  "language_info": {
   "codemirror_mode": {
    "name": "ipython",
    "version": 3
   },
   "file_extension": ".py",
   "mimetype": "text/x-python",
   "name": "python",
   "nbconvert_exporter": "python",
   "pygments_lexer": "ipython3",
   "version": "3.6.5"
  }
 },
 "nbformat": 4,
 "nbformat_minor": 2
}
