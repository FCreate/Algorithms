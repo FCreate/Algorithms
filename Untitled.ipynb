{
 "cells": [
  {
   "cell_type": "code",
   "execution_count": 11,
   "metadata": {},
   "outputs": [
    {
     "name": "stdout",
     "output_type": "stream",
     "text": [
      "5 5\n",
      "1 2\n",
      "2 3\n",
      "3 4\n",
      "4 2\n",
      "4 5\n",
      "YES\n",
      "2 3 4\n"
     ]
    }
   ],
   "source": [
    "n, m = list(map(int, input().split()))\n",
    "g = [[] for _ in range(n)]\n",
    "ans = []\n",
    "visited = [0] * n\n",
    "found = False\n",
    "for _ in range(m):\n",
    "    i, j = list(map(int, input().split()))\n",
    "    i-=1\n",
    "    j-=1\n",
    "    g[i].append(j)\n",
    "    \n",
    "\n",
    "def dfs(g, visited, ans, node1):\n",
    "    global found\n",
    "    visited[node1] = 1\n",
    "    ans.append(node1)\n",
    "    for node2 in g[node1]:\n",
    "        if visited[node2] == 1:\n",
    "            ans.append(node2)\n",
    "            found = True\n",
    "            return\n",
    "        if visited[node2] == 0:\n",
    "            dfs(g, visited, ans, node2)\n",
    "            if found:\n",
    "                return\n",
    "    visited[node1] = 2\n",
    "        \n",
    "def helper(g, visited, ans):\n",
    "    global found\n",
    "    for v in range(n):\n",
    "        if visited[v] == 0:\n",
    "            dfs(g, visited, ans, v)\n",
    "            if found:\n",
    "                print(\"YES\")\n",
    "                path = ans\n",
    "                last_val = path[-1]\n",
    "                r_path = path[:-1]               \n",
    "                indx = len(r_path) - 1 - r_path[::-1].index(last_val)\n",
    "                r_path = [elem + 1 for elem in r_path]\n",
    "                print(\" \".join(list(map(str, r_path[indx:]))))\n",
    "                return\n",
    "\n",
    "    print(\"NO\")\n",
    "    return\n",
    "\n",
    "helper(g,visited, ans)"
   ]
  },
  {
   "cell_type": "code",
   "execution_count": null,
   "metadata": {},
   "outputs": [],
   "source": [
    "5 5\n",
    "1 2\n",
    "2 3\n",
    "3 4\n",
    "4 2\n",
    "4 5"
   ]
  },
  {
   "cell_type": "code",
   "execution_count": 4,
   "metadata": {},
   "outputs": [
    {
     "data": {
      "text/plain": [
       "32"
      ]
     },
     "execution_count": 4,
     "metadata": {},
     "output_type": "execute_result"
    }
   ],
   "source": [
    "class IntClass:\n",
    "    def __init__(self, elem):\n",
    "        self.elem = elem\n",
    "a = IntClass(5)\n",
    "a.__sizeof__()"
   ]
  },
  {
   "cell_type": "code",
   "execution_count": 2,
   "metadata": {},
   "outputs": [],
   "source": [
    "a = IntClass(5)"
   ]
  },
  {
   "cell_type": "code",
   "execution_count": 3,
   "metadata": {},
   "outputs": [
    {
     "data": {
      "text/plain": [
       "32"
      ]
     },
     "execution_count": 3,
     "metadata": {},
     "output_type": "execute_result"
    }
   ],
   "source": [
    "a.__sizeof__()"
   ]
  },
  {
   "cell_type": "code",
   "execution_count": 9,
   "metadata": {},
   "outputs": [
    {
     "data": {
      "text/plain": [
       "442948"
      ]
     },
     "execution_count": 9,
     "metadata": {},
     "output_type": "execute_result"
    }
   ],
   "source": [
    "a = \"1\"*1000000\n",
    "a = int(a)\n",
    "a.__sizeof__()"
   ]
  },
  {
   "cell_type": "code",
   "execution_count": null,
   "metadata": {},
   "outputs": [],
   "source": []
  },
  {
   "cell_type": "code",
   "execution_count": 7,
   "metadata": {},
   "outputs": [],
   "source": [
    "a = int(a)"
   ]
  },
  {
   "cell_type": "code",
   "execution_count": 8,
   "metadata": {},
   "outputs": [
    {
     "data": {
      "text/plain": [
       "442948"
      ]
     },
     "execution_count": 8,
     "metadata": {},
     "output_type": "execute_result"
    }
   ],
   "source": [
    "a.__sizeof__()"
   ]
  },
  {
   "cell_type": "code",
   "execution_count": 1,
   "metadata": {},
   "outputs": [
    {
     "ename": "ImportError",
     "evalue": "cannot import name 'get_origin'",
     "output_type": "error",
     "traceback": [
      "\u001b[1;31m---------------------------------------------------------------------------\u001b[0m",
      "\u001b[1;31mImportError\u001b[0m                               Traceback (most recent call last)",
      "\u001b[1;32m<ipython-input-1-ce6658cad1ad>\u001b[0m in \u001b[0;36m<module>\u001b[1;34m()\u001b[0m\n\u001b[0;32m      1\u001b[0m \u001b[1;32mfrom\u001b[0m \u001b[0mfunctools\u001b[0m \u001b[1;32mimport\u001b[0m \u001b[0mwraps\u001b[0m\u001b[1;33m\u001b[0m\u001b[0m\n\u001b[1;32m----> 2\u001b[1;33m \u001b[1;32mfrom\u001b[0m \u001b[0mtyping\u001b[0m \u001b[1;32mimport\u001b[0m \u001b[0mget_type_hints\u001b[0m\u001b[1;33m,\u001b[0m \u001b[0mget_origin\u001b[0m\u001b[1;33m,\u001b[0m \u001b[0mget_args\u001b[0m\u001b[1;33m,\u001b[0m \u001b[0mAnnotated\u001b[0m\u001b[1;33m\u001b[0m\u001b[0m\n\u001b[0m\u001b[0;32m      3\u001b[0m \u001b[1;33m\u001b[0m\u001b[0m\n\u001b[0;32m      4\u001b[0m \u001b[1;32mdef\u001b[0m \u001b[0mcheck_annotations\u001b[0m\u001b[1;33m(\u001b[0m\u001b[0mfunc\u001b[0m\u001b[1;33m)\u001b[0m\u001b[1;33m:\u001b[0m\u001b[1;33m\u001b[0m\u001b[0m\n\u001b[0;32m      5\u001b[0m     \u001b[1;33m@\u001b[0m\u001b[0mwraps\u001b[0m\u001b[1;33m(\u001b[0m\u001b[0mfunc\u001b[0m\u001b[1;33m)\u001b[0m\u001b[1;33m\u001b[0m\u001b[0m\n",
      "\u001b[1;31mImportError\u001b[0m: cannot import name 'get_origin'"
     ]
    }
   ],
   "source": [
    "from functools import wraps\n",
    "from typing import get_type_hints, get_origin, get_args, Annotated\n",
    "\n",
    "def check_annotations(func):\n",
    "    @wraps(func)\n",
    "    def wrapped(**kwargs):\n",
    "        # perform runtime annotation checking\n",
    "        # first, get type hints from function\n",
    "        type_hints = get_type_hints(func, include_extras=True)\n",
    "        for param, hint in type_hints.items():\n",
    "            # only process annotated types\n",
    "            if get_origin(hint) is not Annotated:\n",
    "                continue\n",
    "            # get base type and additional arguments\n",
    "            hint_type, *hint_args = get_args(hint)\n",
    "            # if a list type is detected, process the args\n",
    "            if hint_type is list or get_origin(hint_type) is list:\n",
    "                for arg in hint_args:\n",
    "                    # if MaxLen arg is detected, process it\n",
    "                    if isinstance(arg, MaxLen):\n",
    "                        max_len = arg.value\n",
    "                        actual_len = len(kwargs[param])\n",
    "                        if actual_len > max_len:\n",
    "                            raise ValueError(f\"Parameter '{param}' cannot have a length \"\n",
    "                                             f\"larger than {max_len} (got length {actual_len}).\")\n",
    "        # execute function once all checks passed\n",
    "        return func(**kwargs)\n",
    "\n",
    "    return wrapped"
   ]
  },
  {
   "cell_type": "code",
   "execution_count": null,
   "metadata": {},
   "outputs": [],
   "source": [
    "from typing import Annotated, List\n",
    "\n",
    "@check_annotations\n",
    "def sum_nums_strict(nums: Annotated[List[int], MaxLen(10)]):\n",
    "    return sum(nums)"
   ]
  },
  {
   "cell_type": "code",
   "execution_count": 4,
   "metadata": {},
   "outputs": [
    {
     "name": "stdout",
     "output_type": "stream",
     "text": [
      "Введите значение a\n",
      "12\n"
     ]
    }
   ],
   "source": [
    "print(\"Введите значение a\")\n",
    "a = input()"
   ]
  },
  {
   "cell_type": "code",
   "execution_count": 17,
   "metadata": {},
   "outputs": [],
   "source": [
    "class myclass:\n",
    "    def __init__(self, var):\n",
    "        while var < 5:\n",
    "            print(\"Please input ... var\")\n",
    "            var = int(input())\n",
    "            print(f\"Your input is {a}\")"
   ]
  },
  {
   "cell_type": "code",
   "execution_count": 9,
   "metadata": {},
   "outputs": [
    {
     "data": {
      "application/vnd.jupyter.widget-view+json": {
       "model_id": "865147bcda34472fbf610b56d2e11683",
       "version_major": 2,
       "version_minor": 0
      },
      "text/plain": [
       "IntSlider(value=0)"
      ]
     },
     "metadata": {},
     "output_type": "display_data"
    }
   ],
   "source": [
    "import ipywidgets as widgets\n",
    "slider = widgets.IntSlider()\n",
    "display(slider)"
   ]
  },
  {
   "cell_type": "code",
   "execution_count": 16,
   "metadata": {},
   "outputs": [
    {
     "data": {
      "text/plain": [
       "28"
      ]
     },
     "execution_count": 16,
     "metadata": {},
     "output_type": "execute_result"
    }
   ],
   "source": [
    "\n",
    "slider.get_state()[\"value\"]"
   ]
  },
  {
   "cell_type": "code",
   "execution_count": 18,
   "metadata": {},
   "outputs": [
    {
     "data": {
      "text/plain": [
       "<__main__.myclass at 0x20c66513b38>"
      ]
     },
     "execution_count": 18,
     "metadata": {},
     "output_type": "execute_result"
    }
   ],
   "source": [
    "myclass(12)"
   ]
  },
  {
   "cell_type": "code",
   "execution_count": null,
   "metadata": {},
   "outputs": [],
   "source": []
  },
  {
   "cell_type": "code",
   "execution_count": null,
   "metadata": {},
   "outputs": [],
   "source": []
  },
  {
   "cell_type": "code",
   "execution_count": null,
   "metadata": {},
   "outputs": [],
   "source": []
  },
  {
   "cell_type": "code",
   "execution_count": null,
   "metadata": {},
   "outputs": [],
   "source": []
  },
  {
   "cell_type": "code",
   "execution_count": null,
   "metadata": {},
   "outputs": [],
   "source": []
  },
  {
   "cell_type": "code",
   "execution_count": null,
   "metadata": {},
   "outputs": [],
   "source": []
  },
  {
   "cell_type": "code",
   "execution_count": null,
   "metadata": {},
   "outputs": [],
   "source": []
  },
  {
   "cell_type": "code",
   "execution_count": null,
   "metadata": {},
   "outputs": [],
   "source": []
  }
 ],
 "metadata": {
  "kernelspec": {
   "display_name": "Python 3",
   "language": "python",
   "name": "python3"
  },
  "language_info": {
   "codemirror_mode": {
    "name": "ipython",
    "version": 3
   },
   "file_extension": ".py",
   "mimetype": "text/x-python",
   "name": "python",
   "nbconvert_exporter": "python",
   "pygments_lexer": "ipython3",
   "version": "3.6.5"
  }
 },
 "nbformat": 4,
 "nbformat_minor": 2
}
